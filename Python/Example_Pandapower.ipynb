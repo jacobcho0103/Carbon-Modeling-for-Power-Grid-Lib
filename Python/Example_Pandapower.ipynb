{
 "cells": [
  {
   "cell_type": "markdown",
   "metadata": {},
   "source": [
    "# carbon_casefile"
   ]
  },
  {
   "cell_type": "code",
   "execution_count": 1,
   "metadata": {
    "ExecuteTime": {
     "end_time": "2025-03-11T17:06:52.376360Z",
     "start_time": "2025-03-11T17:06:52.363475Z"
    }
   },
   "outputs": [],
   "source": [
    "def carbon_casefile(net, fuel_dict):\n",
    "    \"\"\"\n",
    "    Assigns GCI values to generators in the pandapower network based on fuel type and emission type.\n",
    "    \"\"\"\n",
    "    # Lookup tables for CO2 and CO2e emissions\n",
    "    fuel_lookup = {  # CO2 GCI\n",
    "        \"ANT\": 0.9095,  # Anthracite Coal\n",
    "        \"BIT\": 0.8204,  # Bituminous Coal\n",
    "        \"Oil\": 0.7001,  # Heavy Oil\n",
    "        \"GAS\": 0.5173,\n",
    "        \"CCGT\": 0.3621,  # Gas Combined Cycle\n",
    "        \"ICE\": 0.6030,  # Internal Combustion Engine\n",
    "        \"Thermal\": 0.6874,  # Thermal Power (General)\n",
    "        \"NUC\": 0.0,  # Nuclear Power\n",
    "        \"RE\": 0.0,  # Renewable Energy\n",
    "        \"HYD\": 0.0,  # Hydropower\n",
    "        \"N/A\": 0.0  # Default case\n",
    "    }\n",
    "\n",
    "    fuel_lookup_co2e = {  # CO2 GCI + (CH4 GCI * 21) + (N2O GCI * 310)\n",
    "        \"ANT\": 0.9143,  # Anthracite Coal\n",
    "        \"BIT\": 0.8230,  # Bituminous Coal\n",
    "        \"Oil\": 0.7018,  # Heavy Oil\n",
    "        \"GAS\": 0.5177,\n",
    "        \"CCGT\": 0.3625,  # Gas Combined Cycle\n",
    "        \"ICE\": 0.6049,  # Internal Combustion Engine\n",
    "        \"Thermal\": 0.6894,  # Thermal Power (General)\n",
    "        \"NUC\": 0.0,  # Nuclear Power\n",
    "        \"RE\": 0.0,  # Renewable Energy\n",
    "        \"HYD\": 0.0,  # Hydropower\n",
    "        \"N/A\": 0.0  # Default case\n",
    "    }\n",
    "\n",
    "    # Iterate over fuel_dict, assigning GCI values to the corresponding generators in pandapower\n",
    "    for bus_id, info in fuel_dict.items():\n",
    "        if \"type\" in info and \"emissions\" in info:\n",
    "            lookup_table = fuel_lookup_co2e if info[\"emissions\"] == \"CO2e\" else fuel_lookup\n",
    "            \n",
    "            # Find matching generators based on `bus` column in `net.gen`\n",
    "            gen_mask = net.gen[\"bus\"] == bus_id\n",
    "            net.gen.loc[gen_mask, \"GCI\"] = lookup_table.get(info[\"type\"], 0.0)  # Assign GCI value safely"
   ]
  },
  {
   "cell_type": "code",
   "execution_count": 2,
   "metadata": {
    "ExecuteTime": {
     "end_time": "2025-03-11T17:06:52.391744Z",
     "start_time": "2025-03-11T17:06:52.377499Z"
    }
   },
   "outputs": [],
   "source": [
    "def fuel_dict_generation(net):\n",
    "    \"\"\"\n",
    "    Initializes a fuel dictionary from the pandapower network, setting default fuel type and emissions for each generator bus.\n",
    "    \"\"\"\n",
    "    fuel_dict = {}\n",
    "\n",
    "    for bus_id in net.gen[\"bus\"].unique():  # Extract unique generator bus IDs\n",
    "        fuel_dict[bus_id] = {\"type\": \"N/A\", \"emissions\": \"N/A\"}  # Default values\n",
    "\n",
    "    return fuel_dict"
   ]
  },
  {
   "cell_type": "markdown",
   "metadata": {},
   "source": [
    "# Example"
   ]
  },
  {
   "cell_type": "code",
   "execution_count": 3,
   "metadata": {
    "ExecuteTime": {
     "end_time": "2025-03-11T17:06:54.224568Z",
     "start_time": "2025-03-11T17:06:52.392390Z"
    }
   },
   "outputs": [],
   "source": [
    "# Import required libraries\n",
    "import pandapower as pp\n",
    "import pandapower.networks as pn\n",
    "import pandas as pd"
   ]
  },
  {
   "cell_type": "code",
   "execution_count": 4,
   "metadata": {
    "ExecuteTime": {
     "end_time": "2025-03-11T17:06:54.790388Z",
     "start_time": "2025-03-11T17:06:54.225662Z"
    }
   },
   "outputs": [],
   "source": [
    "# Load the pandapower network (assumed to be in MATPOWER format)\n",
    "net = pn.case30() "
   ]
  },
  {
   "cell_type": "code",
   "execution_count": 5,
   "metadata": {
    "ExecuteTime": {
     "end_time": "2025-03-11T17:06:54.805649Z",
     "start_time": "2025-03-11T17:06:54.791470Z"
    }
   },
   "outputs": [],
   "source": [
    "# Generate the fuel dictionary\n",
    "fuel_dict = fuel_dict_generation(net)"
   ]
  },
  {
   "cell_type": "code",
   "execution_count": 6,
   "metadata": {
    "ExecuteTime": {
     "end_time": "2025-03-11T17:06:54.821358Z",
     "start_time": "2025-03-11T17:06:54.807758Z"
    }
   },
   "outputs": [
    {
     "data": {
      "text/plain": [
       "{1: {'type': 'N/A', 'emissions': 'N/A'},\n",
       " 21: {'type': 'N/A', 'emissions': 'N/A'},\n",
       " 26: {'type': 'N/A', 'emissions': 'N/A'},\n",
       " 22: {'type': 'N/A', 'emissions': 'N/A'},\n",
       " 12: {'type': 'N/A', 'emissions': 'N/A'}}"
      ]
     },
     "execution_count": 6,
     "metadata": {},
     "output_type": "execute_result"
    }
   ],
   "source": [
    "fuel_dict"
   ]
  },
  {
   "cell_type": "code",
   "execution_count": 7,
   "metadata": {
    "ExecuteTime": {
     "end_time": "2025-03-11T17:06:54.853325Z",
     "start_time": "2025-03-11T17:06:54.831092Z"
    }
   },
   "outputs": [],
   "source": [
    "# Assign fuel types and emissions to specific generator buses\n",
    "fuel_dict[1] = {\"type\": \"GAS\", \"emissions\": \"CO2e\"}\n",
    "fuel_dict[12] = {\"type\": \"ANT\", \"emissions\": \"CO2\"}\n",
    "fuel_dict[22] = {\"type\": \"BIT\", \"emissions\": \"CO2\"}"
   ]
  },
  {
   "cell_type": "code",
   "execution_count": 8,
   "metadata": {
    "ExecuteTime": {
     "end_time": "2025-03-11T17:06:54.869279Z",
     "start_time": "2025-03-11T17:06:54.856450Z"
    }
   },
   "outputs": [
    {
     "data": {
      "text/plain": [
       "{1: {'type': 'GAS', 'emissions': 'CO2e'},\n",
       " 21: {'type': 'N/A', 'emissions': 'N/A'},\n",
       " 26: {'type': 'N/A', 'emissions': 'N/A'},\n",
       " 22: {'type': 'BIT', 'emissions': 'CO2'},\n",
       " 12: {'type': 'ANT', 'emissions': 'CO2'}}"
      ]
     },
     "execution_count": 8,
     "metadata": {},
     "output_type": "execute_result"
    }
   ],
   "source": [
    "fuel_dict"
   ]
  },
  {
   "cell_type": "code",
   "execution_count": 9,
   "metadata": {
    "ExecuteTime": {
     "end_time": "2025-03-11T17:06:54.900364Z",
     "start_time": "2025-03-11T17:06:54.876413Z"
    }
   },
   "outputs": [],
   "source": [
    "# Apply carbon constraints to the pandapower network\n",
    "carbon_casefile(net, fuel_dict)"
   ]
  },
  {
   "cell_type": "code",
   "execution_count": 10,
   "metadata": {
    "ExecuteTime": {
     "end_time": "2025-03-11T17:06:54.931875Z",
     "start_time": "2025-03-11T17:06:54.901488Z"
    }
   },
   "outputs": [
    {
     "data": {
      "text/html": [
       "<div>\n",
       "<style scoped>\n",
       "    .dataframe tbody tr th:only-of-type {\n",
       "        vertical-align: middle;\n",
       "    }\n",
       "\n",
       "    .dataframe tbody tr th {\n",
       "        vertical-align: top;\n",
       "    }\n",
       "\n",
       "    .dataframe thead th {\n",
       "        text-align: right;\n",
       "    }\n",
       "</style>\n",
       "<table border=\"1\" class=\"dataframe\">\n",
       "  <thead>\n",
       "    <tr style=\"text-align: right;\">\n",
       "      <th></th>\n",
       "      <th>bus</th>\n",
       "      <th>controllable</th>\n",
       "      <th>in_service</th>\n",
       "      <th>name</th>\n",
       "      <th>p_mw</th>\n",
       "      <th>scaling</th>\n",
       "      <th>sn_mva</th>\n",
       "      <th>type</th>\n",
       "      <th>vm_pu</th>\n",
       "      <th>slack</th>\n",
       "      <th>max_p_mw</th>\n",
       "      <th>min_p_mw</th>\n",
       "      <th>max_q_mvar</th>\n",
       "      <th>min_q_mvar</th>\n",
       "      <th>GCI</th>\n",
       "    </tr>\n",
       "  </thead>\n",
       "  <tbody>\n",
       "    <tr>\n",
       "      <th>0</th>\n",
       "      <td>1</td>\n",
       "      <td>True</td>\n",
       "      <td>True</td>\n",
       "      <td>None</td>\n",
       "      <td>60.97</td>\n",
       "      <td>1.0</td>\n",
       "      <td>NaN</td>\n",
       "      <td>None</td>\n",
       "      <td>1.0</td>\n",
       "      <td>False</td>\n",
       "      <td>80.0</td>\n",
       "      <td>0.0</td>\n",
       "      <td>60.0</td>\n",
       "      <td>-20.0</td>\n",
       "      <td>0.5177</td>\n",
       "    </tr>\n",
       "    <tr>\n",
       "      <th>1</th>\n",
       "      <td>21</td>\n",
       "      <td>True</td>\n",
       "      <td>True</td>\n",
       "      <td>None</td>\n",
       "      <td>21.59</td>\n",
       "      <td>1.0</td>\n",
       "      <td>NaN</td>\n",
       "      <td>None</td>\n",
       "      <td>1.0</td>\n",
       "      <td>False</td>\n",
       "      <td>50.0</td>\n",
       "      <td>0.0</td>\n",
       "      <td>62.5</td>\n",
       "      <td>-15.0</td>\n",
       "      <td>0.0000</td>\n",
       "    </tr>\n",
       "    <tr>\n",
       "      <th>2</th>\n",
       "      <td>26</td>\n",
       "      <td>True</td>\n",
       "      <td>True</td>\n",
       "      <td>None</td>\n",
       "      <td>26.91</td>\n",
       "      <td>1.0</td>\n",
       "      <td>NaN</td>\n",
       "      <td>None</td>\n",
       "      <td>1.0</td>\n",
       "      <td>False</td>\n",
       "      <td>55.0</td>\n",
       "      <td>0.0</td>\n",
       "      <td>48.7</td>\n",
       "      <td>-15.0</td>\n",
       "      <td>0.0000</td>\n",
       "    </tr>\n",
       "    <tr>\n",
       "      <th>3</th>\n",
       "      <td>22</td>\n",
       "      <td>True</td>\n",
       "      <td>True</td>\n",
       "      <td>None</td>\n",
       "      <td>19.20</td>\n",
       "      <td>1.0</td>\n",
       "      <td>NaN</td>\n",
       "      <td>None</td>\n",
       "      <td>1.0</td>\n",
       "      <td>False</td>\n",
       "      <td>30.0</td>\n",
       "      <td>0.0</td>\n",
       "      <td>40.0</td>\n",
       "      <td>-10.0</td>\n",
       "      <td>0.8204</td>\n",
       "    </tr>\n",
       "    <tr>\n",
       "      <th>4</th>\n",
       "      <td>12</td>\n",
       "      <td>True</td>\n",
       "      <td>True</td>\n",
       "      <td>None</td>\n",
       "      <td>37.00</td>\n",
       "      <td>1.0</td>\n",
       "      <td>NaN</td>\n",
       "      <td>None</td>\n",
       "      <td>1.0</td>\n",
       "      <td>False</td>\n",
       "      <td>40.0</td>\n",
       "      <td>0.0</td>\n",
       "      <td>44.7</td>\n",
       "      <td>-15.0</td>\n",
       "      <td>0.9095</td>\n",
       "    </tr>\n",
       "  </tbody>\n",
       "</table>\n",
       "</div>"
      ],
      "text/plain": [
       "   bus  controllable  in_service  name   p_mw  scaling  sn_mva  type  vm_pu  \\\n",
       "0    1          True        True  None  60.97      1.0     NaN  None    1.0   \n",
       "1   21          True        True  None  21.59      1.0     NaN  None    1.0   \n",
       "2   26          True        True  None  26.91      1.0     NaN  None    1.0   \n",
       "3   22          True        True  None  19.20      1.0     NaN  None    1.0   \n",
       "4   12          True        True  None  37.00      1.0     NaN  None    1.0   \n",
       "\n",
       "   slack  max_p_mw  min_p_mw  max_q_mvar  min_q_mvar     GCI  \n",
       "0  False      80.0       0.0        60.0       -20.0  0.5177  \n",
       "1  False      50.0       0.0        62.5       -15.0  0.0000  \n",
       "2  False      55.0       0.0        48.7       -15.0  0.0000  \n",
       "3  False      30.0       0.0        40.0       -10.0  0.8204  \n",
       "4  False      40.0       0.0        44.7       -15.0  0.9095  "
      ]
     },
     "execution_count": 10,
     "metadata": {},
     "output_type": "execute_result"
    }
   ],
   "source": [
    "net.gen"
   ]
  },
  {
   "cell_type": "code",
   "execution_count": 11,
   "metadata": {
    "ExecuteTime": {
     "end_time": "2025-03-11T17:06:55.762374Z",
     "start_time": "2025-03-11T17:06:54.932973Z"
    }
   },
   "outputs": [],
   "source": [
    "# Run OPF\n",
    "pp.runopp(net)"
   ]
  },
  {
   "cell_type": "code",
   "execution_count": 12,
   "metadata": {
    "ExecuteTime": {
     "end_time": "2025-03-11T17:06:55.777845Z",
     "start_time": "2025-03-11T17:06:55.763474Z"
    }
   },
   "outputs": [],
   "source": [
    "# Calculate carbon emissions for each generator\n",
    "net.res_gen[\"carbon emission\"]=net.res_gen[\"p_mw\"]*net.gen[\"GCI\"]"
   ]
  },
  {
   "cell_type": "code",
   "execution_count": 13,
   "metadata": {
    "ExecuteTime": {
     "end_time": "2025-03-11T17:06:55.793710Z",
     "start_time": "2025-03-11T17:06:55.778899Z"
    }
   },
   "outputs": [
    {
     "data": {
      "text/html": [
       "<div>\n",
       "<style scoped>\n",
       "    .dataframe tbody tr th:only-of-type {\n",
       "        vertical-align: middle;\n",
       "    }\n",
       "\n",
       "    .dataframe tbody tr th {\n",
       "        vertical-align: top;\n",
       "    }\n",
       "\n",
       "    .dataframe thead th {\n",
       "        text-align: right;\n",
       "    }\n",
       "</style>\n",
       "<table border=\"1\" class=\"dataframe\">\n",
       "  <thead>\n",
       "    <tr style=\"text-align: right;\">\n",
       "      <th></th>\n",
       "      <th>p_mw</th>\n",
       "      <th>q_mvar</th>\n",
       "      <th>va_degree</th>\n",
       "      <th>vm_pu</th>\n",
       "      <th>carbon emission</th>\n",
       "    </tr>\n",
       "  </thead>\n",
       "  <tbody>\n",
       "    <tr>\n",
       "      <th>0</th>\n",
       "      <td>61.237460</td>\n",
       "      <td>-19.999710</td>\n",
       "      <td>0.508009</td>\n",
       "      <td>0.986762</td>\n",
       "      <td>31.702633</td>\n",
       "    </tr>\n",
       "    <tr>\n",
       "      <th>1</th>\n",
       "      <td>22.924613</td>\n",
       "      <td>11.658752</td>\n",
       "      <td>-0.593612</td>\n",
       "      <td>1.002674</td>\n",
       "      <td>0.000000</td>\n",
       "    </tr>\n",
       "    <tr>\n",
       "      <th>2</th>\n",
       "      <td>51.877455</td>\n",
       "      <td>19.732024</td>\n",
       "      <td>4.351380</td>\n",
       "      <td>1.049671</td>\n",
       "      <td>0.000000</td>\n",
       "    </tr>\n",
       "    <tr>\n",
       "      <th>3</th>\n",
       "      <td>16.213665</td>\n",
       "      <td>32.709865</td>\n",
       "      <td>-0.770482</td>\n",
       "      <td>1.067925</td>\n",
       "      <td>13.301691</td>\n",
       "    </tr>\n",
       "    <tr>\n",
       "      <th>4</th>\n",
       "      <td>39.999991</td>\n",
       "      <td>36.245106</td>\n",
       "      <td>2.702687</td>\n",
       "      <td>1.081294</td>\n",
       "      <td>36.379992</td>\n",
       "    </tr>\n",
       "  </tbody>\n",
       "</table>\n",
       "</div>"
      ],
      "text/plain": [
       "        p_mw     q_mvar  va_degree     vm_pu  carbon emission\n",
       "0  61.237460 -19.999710   0.508009  0.986762        31.702633\n",
       "1  22.924613  11.658752  -0.593612  1.002674         0.000000\n",
       "2  51.877455  19.732024   4.351380  1.049671         0.000000\n",
       "3  16.213665  32.709865  -0.770482  1.067925        13.301691\n",
       "4  39.999991  36.245106   2.702687  1.081294        36.379992"
      ]
     },
     "execution_count": 13,
     "metadata": {},
     "output_type": "execute_result"
    }
   ],
   "source": [
    "net.res_gen"
   ]
  }
 ],
 "metadata": {
  "kernelspec": {
   "display_name": "Python 3",
   "language": "python",
   "name": "python3"
  },
  "language_info": {
   "codemirror_mode": {
    "name": "ipython",
    "version": 3
   },
   "file_extension": ".py",
   "mimetype": "text/x-python",
   "name": "python",
   "nbconvert_exporter": "python",
   "pygments_lexer": "ipython3",
   "version": "3.6.10"
  },
  "toc": {
   "base_numbering": 1,
   "nav_menu": {},
   "number_sections": true,
   "sideBar": true,
   "skip_h1_title": false,
   "title_cell": "Table of Contents",
   "title_sidebar": "Contents",
   "toc_cell": false,
   "toc_position": {},
   "toc_section_display": true,
   "toc_window_display": false
  }
 },
 "nbformat": 4,
 "nbformat_minor": 4
}
